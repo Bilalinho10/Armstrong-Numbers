{
  "nbformat": 4,
  "nbformat_minor": 0,
  "metadata": {
    "colab": {
      "name": "Armstrongnumbers.ipynb",
      "provenance": [],
      "collapsed_sections": []
    },
    "kernelspec": {
      "name": "python3",
      "display_name": "Python 3"
    },
    "language_info": {
      "name": "python"
    }
  },
  "cells": [
    {
      "cell_type": "code",
      "execution_count": null,
      "metadata": {
        "colab": {
          "base_uri": "https://localhost:8080/"
        },
        "id": "_MRAR81ywTFA",
        "outputId": "2402549b-4020-45a9-8faf-406b1c9ce08e"
      },
      "outputs": [
        {
          "output_type": "stream",
          "name": "stdout",
          "text": [
            "First number :6\n",
            "Second number:88\n",
            "The armstrong number between 6 and 88 are: [6, 7, 8, 9]\n"
          ]
        }
      ],
      "source": [
        "a=input(\"First number :\")\n",
        "b=input(\"Second number:\")\n",
        "list=[]\n",
        "if a.isdigit() and b.isdigit():\n",
        "  if int(a)>=int(b):\n",
        "    print(\"First number must be bigger than Second number.\")\n",
        "  else:\n",
        "    for i in range(int(a),int(b)+1):\n",
        "      topl=0\n",
        "      for x in str(i):\n",
        "        n=len(str(i))\n",
        "        topl += int(x)**n\n",
        "      if topl==int(i):\n",
        "        list.append(int(i))\n",
        "    print(\"The armstrong number between\",int(a), \"and\",int(b),\"are:\",list)\n",
        "else:\n",
        "  print(\"Invalid input\")"
      ]
    },
    {
      "cell_type": "code",
      "source": [
        ""
      ],
      "metadata": {
        "id": "XiKyu4zJxvUb"
      },
      "execution_count": null,
      "outputs": []
    }
  ]
}